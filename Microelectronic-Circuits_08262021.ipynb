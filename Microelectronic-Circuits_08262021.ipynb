{
  "nbformat": 4,
  "nbformat_minor": 0,
  "metadata": {
    "colab": {
      "name": "Copy of Electromagnetics_05272021.ipynb",
      "provenance": [],
      "collapsed_sections": [
        "eQMSJc8REJB3"
      ],
      "toc_visible": true,
      "authorship_tag": "ABX9TyPp1X2svSfhPTKOKUrEhLgo",
      "include_colab_link": true
    },
    "kernelspec": {
      "name": "python3",
      "display_name": "Python 3"
    },
    "language_info": {
      "name": "python"
    }
  },
  "cells": [
    {
      "cell_type": "markdown",
      "metadata": {
        "id": "view-in-github",
        "colab_type": "text"
      },
      "source": [
        "<a href=\"https://colab.research.google.com/github/ProfCrouse/Microelectronic-Circuits/blob/main/Microelectronic-Circuits_08262021.ipynb\" target=\"_parent\"><img src=\"https://colab.research.google.com/assets/colab-badge.svg\" alt=\"Open In Colab\"/></a>"
      ]
    },
    {
      "cell_type": "markdown",
      "metadata": {
        "id": "cnftkAZSASpn"
      },
      "source": [
        "<body style=\"background-color:powderblue;\"><center><h1 style = \"font-family:garamond;\">EE381 Fields and Waves</h1><img src=\"https://drive.google.com/uc?export=view&id=1RfGSM7Gm0ySyErNndTb88Bm-3b85ocjo\"></center></body>\n",
        "\n",
        "<p align=\"right\">...and Maxwell said \"<i>Let there be Light</>\"</p>\n"
      ]
    },
    {
      "cell_type": "markdown",
      "metadata": {
        "id": "oqqKPm7W17Ux"
      },
      "source": [
        "# Introduction\n",
        "Hello World!!"
      ]
    },
    {
      "cell_type": "markdown",
      "metadata": {
        "id": "uRfrezPk6i5v"
      },
      "source": [
        "## Introduction into Waves"
      ]
    },
    {
      "cell_type": "markdown",
      "metadata": {
        "id": "LSnuQ4Nh6nO3"
      },
      "source": [
        "\n",
        "---\n",
        "\n",
        "\n",
        "### *Applications of Static Fields ($\\lambda = \\infty$)*\n",
        "\n",
        "\n",
        "---\n",
        "\n"
      ]
    },
    {
      "cell_type": "markdown",
      "metadata": {
        "id": "MOSe0eZq6wRc"
      },
      "source": [
        "---\n",
        "\n",
        "### *Applications of Radio Waves ($\\lambda = 1 \\: meter \\rightarrow 1 \\: kilometer$)*\n",
        "\n",
        "\n",
        "---\n",
        "\n"
      ]
    },
    {
      "cell_type": "markdown",
      "metadata": {
        "id": "Kg38S1i_7Vv1"
      },
      "source": [
        "---\n",
        "\n",
        "\n",
        "### *Applications of RADAR and Microwaves ($\\lambda = 1 \\: millimeter \\rightarrow 1 \\: meter$)*\n",
        "\n",
        "\n",
        "---\n",
        "\n"
      ]
    },
    {
      "cell_type": "markdown",
      "metadata": {
        "id": "3q-DOdwx9e_H"
      },
      "source": [
        "\n",
        "\n",
        "---\n",
        "\n",
        "\n",
        "### *Applications of Infrared Waves ($\\lambda = 700 \\: nanometers \\rightarrow 1 \\: millimeter$)*\n",
        "\n",
        "\n",
        "---\n",
        "\n",
        "\n"
      ]
    },
    {
      "cell_type": "markdown",
      "metadata": {
        "id": "z8lywU-4-GGw"
      },
      "source": [
        "\n",
        "\n",
        "---\n",
        "\n",
        "\n",
        "### *Applications of Visible Light ($\\lambda = 380 \\: nanometers \\rightarrow 700 \\: nanometers$)*\n",
        "\n",
        "\n",
        "---\n",
        "\n"
      ]
    },
    {
      "cell_type": "markdown",
      "metadata": {
        "id": "fx94DBpj-Ujt"
      },
      "source": [
        "\n",
        "\n",
        "---\n",
        "\n",
        "\n",
        "\n",
        "### *Applications of Ultraviolet Light ($\\lambda = 10 \\: nanometers \\rightarrow 380 \\: nanometer$)*\n",
        "\n",
        "\n",
        "---\n"
      ]
    },
    {
      "cell_type": "markdown",
      "metadata": {
        "id": "Vtn0ckcI-eEi"
      },
      "source": [
        "\n",
        "\n",
        "---\n",
        "\n",
        "\n",
        "### *Applications of X-Rays ($\\lambda = 1 \\: picometer \\rightarrow 10 \\: nanometer$)*\n",
        "\n",
        "\n",
        "---\n",
        "\n"
      ]
    },
    {
      "cell_type": "markdown",
      "metadata": {
        "id": "qKQ036rt_EBf"
      },
      "source": [
        "## The History of Electromagnetics"
      ]
    },
    {
      "cell_type": "markdown",
      "metadata": {
        "id": "ozTfgxWD_Lee"
      },
      "source": [
        "\n",
        "\n",
        "---\n",
        "\n",
        "### *Forces, Fields, Potentials, and Energy*\n",
        "\n",
        "\n",
        "---\n",
        "\n"
      ]
    },
    {
      "cell_type": "markdown",
      "metadata": {
        "id": "k4C2TqLe_RK9"
      },
      "source": [
        "\n",
        "\n",
        "---\n",
        "\n",
        "\n",
        "### *Charles Auguste Coulomb*\n",
        "\n",
        "\n",
        "---\n",
        "\n",
        "\n",
        "\n"
      ]
    },
    {
      "cell_type": "markdown",
      "metadata": {
        "id": "fHcGLVs4_Y79"
      },
      "source": [
        "\n",
        "\n",
        "---\n",
        "\n",
        "\n",
        "### *André-Marie Ampère*\n",
        "\n",
        "\n",
        "---\n",
        "\n"
      ]
    },
    {
      "cell_type": "markdown",
      "metadata": {
        "id": "VRuY2RLY_tnq"
      },
      "source": [
        "\n",
        "\n",
        "---\n",
        "\n",
        "\n",
        "### *Carl Friedrich Gauss*\n",
        "\n",
        "\n",
        "---\n",
        "\n"
      ]
    },
    {
      "cell_type": "markdown",
      "metadata": {
        "id": "diVO8KoJ_ywT"
      },
      "source": [
        "\n",
        "\n",
        "---\n",
        "\n",
        "\n",
        "### *Michael Faraday*\n",
        "\n",
        "\n",
        "---\n",
        "\n"
      ]
    },
    {
      "cell_type": "markdown",
      "metadata": {
        "id": "ygs1QzUJ_2s7"
      },
      "source": [
        "\n",
        "\n",
        "---\n",
        "\n",
        "\n",
        "### *James Clerk Maxwell*\n",
        "\n",
        "\n",
        "---\n",
        "\n"
      ]
    },
    {
      "cell_type": "markdown",
      "metadata": {
        "id": "h0LQC25P1wg_"
      },
      "source": [
        "# Mathematical Review"
      ]
    },
    {
      "cell_type": "markdown",
      "metadata": {
        "id": "HPE_cGrR2RR1"
      },
      "source": [
        "## Complex Numbers"
      ]
    },
    {
      "cell_type": "markdown",
      "metadata": {
        "id": "g7WE3k6A2yJp"
      },
      "source": [
        "## Phasors"
      ]
    },
    {
      "cell_type": "markdown",
      "metadata": {
        "id": "90Ld5wFg2ZHE"
      },
      "source": [
        "## Linear Algebra"
      ]
    },
    {
      "cell_type": "markdown",
      "metadata": {
        "id": "cfyKTe5o2-pY"
      },
      "source": [
        "## Coordinate Systems"
      ]
    },
    {
      "cell_type": "markdown",
      "metadata": {
        "id": "wJyKmwNp3HwW"
      },
      "source": [
        "## Vector Algebra"
      ]
    },
    {
      "cell_type": "markdown",
      "metadata": {
        "id": "NLg8aOIc3Mv_"
      },
      "source": [
        "## Coordinate Transformations"
      ]
    },
    {
      "cell_type": "markdown",
      "metadata": {
        "id": "PaANsso34GEM"
      },
      "source": [
        "## Coordinate Rotations and Translations\n"
      ]
    },
    {
      "cell_type": "markdown",
      "metadata": {
        "id": "0HMiGHAv3aap"
      },
      "source": [
        "## The Gradient of a Scalar Field\n",
        "\n",
        "\n"
      ]
    },
    {
      "cell_type": "markdown",
      "metadata": {
        "id": "671nVTMn3r8k"
      },
      "source": [
        "## The Divergence of a Vector Field"
      ]
    },
    {
      "cell_type": "markdown",
      "metadata": {
        "id": "jua7iZcB32vF"
      },
      "source": [
        "## The Curl of a Vector Field"
      ]
    },
    {
      "cell_type": "markdown",
      "metadata": {
        "id": "rS-MU_nM39CY"
      },
      "source": [
        "## Higher Order Operations"
      ]
    },
    {
      "cell_type": "markdown",
      "metadata": {
        "id": "xWWiLphr0_Uy"
      },
      "source": [
        "# Transmission Lines"
      ]
    },
    {
      "cell_type": "markdown",
      "metadata": {
        "id": "rM_C9bXYAqa7"
      },
      "source": [
        "## Introduction"
      ]
    },
    {
      "cell_type": "markdown",
      "metadata": {
        "id": "M2zvn6X9AzuP"
      },
      "source": [
        "## Lumped Element Model and the Transmission Line Equations"
      ]
    },
    {
      "cell_type": "markdown",
      "metadata": {
        "id": "E7uKoM0NAzx8"
      },
      "source": [
        "## Wave Propagation on a Transmission Line"
      ]
    },
    {
      "cell_type": "markdown",
      "metadata": {
        "id": "-PNQH4_CAz2Z"
      },
      "source": [
        "## The Lossless Transmission Line"
      ]
    },
    {
      "cell_type": "markdown",
      "metadata": {
        "id": "yBKN7bOAAz6t"
      },
      "source": [
        "## Special Cases of Trasmission Lines"
      ]
    },
    {
      "cell_type": "markdown",
      "metadata": {
        "id": "eNUDpw-JBJvr"
      },
      "source": [
        "## The Smith Chart"
      ]
    },
    {
      "cell_type": "markdown",
      "metadata": {
        "id": "nKw5bw2PBJyn"
      },
      "source": [
        "## Matched Networks"
      ]
    },
    {
      "cell_type": "markdown",
      "metadata": {
        "id": "CXe1ZABRECZ2"
      },
      "source": [
        "## Transient Signals on Transmission Lines"
      ]
    },
    {
      "cell_type": "markdown",
      "metadata": {
        "id": "sl78OwATZ-xT"
      },
      "source": [
        "# Electrostatics\n",
        "\n",
        "\n",
        "<table>\n",
        "<thead>\n",
        "  <tr>\n",
        "    <th><span style=\"color:#FFF\"><p style=\"font-size:20px\">Topics Covered in this Chapter</p></span></th>\n",
        "  </tr>\n",
        "</thead>\n",
        "<tbody>\n",
        "  <tr>\n",
        "    <td><p style=\"font-size:12px\">Electric Charge, Charge Densities, and Currents</p></td>\n",
        "  </tr>\n",
        "  <tr>\n",
        "    <td><p style=\"font-size:12px\">Coulomb's Law</p></td>\n",
        "  </tr>\n",
        "  <tr>\n",
        "    <td><p style=\"font-size:12px\">The Direct Integration Method for Calculating Electric Fields</p></td>\n",
        "  </tr>\n",
        "  <tr>\n",
        "    <td><p style=\"font-size:12px\">Gauss's Law</p></td>\n",
        "  </tr>\n",
        "  <tr>\n",
        "    <td><p style=\"font-size:12px\">The Gaussian Method for Calculating Electric Fields</p></td>\n",
        "  </tr>\n",
        "  <tr>\n",
        "    <td><p style=\"font-size:12px\">The Electric Scalar Potential</p></td>\n",
        "  </tr>\n",
        "  <tr>\n",
        "    <td><p style=\"font-size:12px\">The Electric Dipole</p?</td>\n",
        "  </tr>\n",
        "  <tr>\n",
        "    <td><p style=\"font-size:12px\">Electric Potential Energy</p></td>\n",
        "  </tr>\n",
        "  <tr>\n",
        "    <td><p style=\"font-size:12px\">Image Theory</p></td>\n",
        "  </tr>\n",
        "</tbody>\n",
        "</table>\n",
        "\n",
        "<br>\n",
        "<br>\n",
        "\n",
        "---\n",
        "\n"
      ]
    },
    {
      "cell_type": "markdown",
      "metadata": {
        "id": "qRbXjO7dTyaS"
      },
      "source": [
        "<br>\n",
        "\n",
        "In this chapter, we will study Maxwell's equations when there is no time dependence of the fields, charges, charge densities, currents and current densities.  In this case, Maxwell's equations reduces to those shown in the table below.  \n",
        "\n",
        "<br>\n",
        "\n",
        "<table>\n",
        "<tr><td></td><td><p style=\"font-size:20px\"><u>Time-Dependent Maxwell's Equations</u></p></td>\n",
        "<td><p style=\"font-size:20px\"><u>Time-Independent (Static) Maxwell's Equations</u></p></td></tr>\n",
        "<tr><td>Gauss's Law of Electricity</td>\n",
        "<td>$$ \\nabla \\cdot \\vec{\\mathbf{D}} = \\rho_v $$</td>\n",
        "<td>$$ \\nabla \\cdot \\vec{\\mathbf{D}} = \\rho_v $$</td></tr>\n",
        "<tr><td>Maxwell-Faraday Law</td>\n",
        "<td>$$ \\nabla \\times \\vec{\\mathbf{E}} = -\\frac{\\partial \\vec{\\mathbf{B}}}{\\partial t} $$</td>\n",
        "<td>$$ \\nabla \\times \\vec{\\mathbf{E}} = 0 $$</td></tr>\n",
        "<tr><td>Gauss's Law of Magnetism</td>\n",
        "<td>$$ \\nabla \\cdot \\vec{\\mathbf{B}} = 0 $$</td>\n",
        "<td>$$ \\nabla \\cdot \\vec{\\mathbf{B}} = 0 $$</td></tr>\n",
        "<tr><td>Ampère's Law</td>\n",
        "<td>$$ \\nabla \\times \\vec{\\mathbf{H}} = \\vec{\\mathbf{J}}+\\frac{\\partial \\vec{\\mathbf{D}}}{\\partial t} $$</td>\n",
        "<td>$$ \\nabla \\times \\vec{\\mathbf{H}} = \\vec{\\mathbf{J}} $$</td></tr> \n",
        "</table>\n",
        "<br><br>"
      ]
    },
    {
      "cell_type": "markdown",
      "metadata": {
        "id": "7TLK87ASLsMD"
      },
      "source": [
        "<p style=\"font-size:12px\">In electrostatics, the quantities $\\rho_v$ and $\\vec{\\mathbf{J}}$ are constant with respect to time but, and typically do, depend on position $\\vec{\\mathbf{r}}$.  It is generally stated that under static conditions, the electric fields/fluxes are decoupled from the magnetic fields/fluxes.  This is largely true, but the astute reader will notice that the curl of $\\vec{\\mathbf{H}}$ (i.e., $\\nabla \\times \\vec{\\mathbf{H}}$) is equal to $\\vec{\\mathbf{J}}$ which we will find out later in this chapter is proportional to $\\vec{\\mathbf{J}}$.  This fact aside,we have $\\vec{\\mathbf{E}}$ and $\\vec{\\mathbf{D}}$ being decoupled from $\\vec{\\mathbf{H}}$ and $\\vec{\\mathbf{B}}$, and allowing us to work with two separate sets of equations, one describing electric fields/fluxes and the other describing magnetic fields and flux densities: \n",
        "</p>\n",
        "\n",
        "<br>\n",
        "<p style=\"font-size:14px;\">\n",
        "<table>\n",
        "<tr><td>\n",
        "<table>\n",
        "<tr><td bgcolor=00FFFF><p style=\"font-size:10px\"><u>Electrostatics</u></p></td></tr>\n",
        "<tr><td bgcolor=00FFFF>$$ \\nabla \\cdot \\vec{\\mathbf{D}} = \\rho_v $$</td></tr>\n",
        "<tr><td bgcolor=00FFFF>$$ \\nabla \\times \\vec{\\mathbf{E}} = 0 $$</td></tr>\n",
        "</table>\n",
        "</td>\n",
        "<td>   &emsp; &emsp; &emsp; &emsp; &emsp;    </td>\n",
        "<td>\n",
        "<table>\n",
        "<tr><td bgcolor=FFCCFF><p style=\"font-size:20px\"><u>Magnetostatics</u></p></td></tr>\n",
        "<tr><td bgcolor=FFCCFF>$$ \\nabla \\cdot \\vec{\\mathbf{B}} = 0 $$</td></tr>\n",
        "<tr><td bgcolor=FFCCFF>$$ \\nabla \\times \\vec{\\mathbf{H}} = \\vec{\\mathbf{J}} $$</td></tr>\n",
        "</table>\n",
        "</td></tr>\n",
        "</table>\n",
        "\n",
        "<br><br>\n",
        "\n",
        "---"
      ]
    },
    {
      "cell_type": "markdown",
      "metadata": {
        "id": "mF7AbZsfEIV3"
      },
      "source": [
        "## Electric Charge, Charge Densities, and Currents\n",
        "\n",
        "Electric and magnetic fields and flux densities arise due to sources.  The sources are what are the terms on the right side of the four Maxwell's equations; two scalar sources for the divergences of the flux densities and two vector sources for the curls of fields.  When the scalar source and vector source for the electric field equations are provided, then the electric field is specified up to a function that satisfy LaPlace's equation, and likewise for the magnetic field.  Due to the nonexistence of magnetic monopoles, it is convention to set both the magnetic charge on the right side of Gauss's law for magnetism, and the magnetic current density that would be on the right side of Ampere's law are zero.  We will follow this convention, but alert the inform the reader that in more advanced textbooks, these magnetic sources are not automatically set to zero.  Thus, we have two types of sources:  electric charge density $\\rho$ and electric current $\\vec{\\mathbf{J}}$.\n",
        "\n",
        "Electric charge density is one of only a few truly elementary/fundamental properties of a particle.  Regardless of the process or interaction that has occurred, electric charge has always been observed to be conserved.  In electrodynamics, the most important charge is the charge of the electron.  In 1909-1910, American physicist Robert Andrews Millikan measured the charge of an electron that is within 0.6% of its currently accepted value of $q_e=-e=1.602 \\times 10^{-19} C$.\n",
        "\n",
        "<br>\n",
        "<table>\n",
        "<tr><td><img src=\"https://drive.google.com/uc?export=view&id=1tYtJkRnVOMldTWjI00y0NGeQOcWn8yO5\"></td>\n",
        "<td><img src=\"https://drive.google.com/uc?export=view&id=10LUDj2C34TnYgG8IH_RJW61S2zuYflxB\"></td></tr>\n",
        "<tr><td colspan=\"2\">\n",
        "Figure 4-1  A picture of <a href=\"https://drive.google.com/file/d/18Jfz9efxP2VN7coy93aNSrU7bBZjA_bX/view?usp=sharing\">Millikan's oil drop aparatus</a>.</td></tr>\n",
        "</table>\n",
        "<br>\n",
        "\n",
        "Besides volumetric charge density $\\rho_v$ with units of $C \\cdot m^{-3}$, we will find it convenient to define and work with two other charge densities, namely surface (areal) density $\\sigma$ with units of $C \\cdot m^{-2}$ and linear charge density $\\lambda$ with units of $C \\cdot m^{-1}$.  \n",
        "\n",
        "<br>\n",
        "<table style=\"border: 1px solid black\">\n",
        "<tr><td colspan=\"3\"><img src=\"https://drive.google.com/uc?export=view&id=1IscuSFJcqXCzGj1OrlOHL_KFGBWDIE41\"></td></tr>\n",
        "<tr><td><p style=\"font-size:14px;\">\n",
        "$$\\rho = \\lim_{\\Delta V \\rightarrow 0} \\frac{\\Delta q}{\\Delta V}$$  <br>   $$Q=\\int_{V}\\rho dV$$ </td>\n",
        "<td><p style=\"font-size:14px;\">$$\\sigma = \\lim_{\\Delta S \\rightarrow 0} \\frac{\\Delta q}{\\Delta S}$$ <br> $$Q=\\int_{S}\\sigma dS$$</td>\n",
        "<td><p style=\"font-size:14px;\">$$\\lambda = \\lim_{\\Delta l \\rightarrow 0} \\frac{\\Delta q}{\\Delta l}$$ <br> $$Q=\\int_{L}\\lambda dl$$</p></td>\n",
        "<tr><td colspan=\"3\">\n",
        "<p style=\"font-size:14px;\">Figure 4-2  Three types of charge densities. <b>Left</b>: volumetric charge density $\\rho$, <b>Center</b>: surface charge density, <b>Right</b>: linear charge density.</p> </td></tr>\n",
        "</table>\n",
        "<br>\n",
        "\n",
        "\n",
        "\n"
      ]
    },
    {
      "cell_type": "markdown",
      "metadata": {
        "id": "_KrLK83PEI7X"
      },
      "source": [
        "## Coulomb's Law\n",
        "\n",
        "The law that we know today as Coulomb's law is in fact a result from the minds of several natural philosophers and not just Charles-Augusting de Coulomb.  This is not to minimize the import of Coulomb's work, but just a reminder that scientific discoveries very rarely happen in a vacuum, rather, it is a result of continual investigation and evolution in our understanding of nature.  While Greek philosopher Thales of Miletus made the first recorded account of static electricity--the static electricity imparted on a piece of amber--it was in the $17^{th}$ and $18^{th}$ centuries where real progress was made.  Significant contributions were made by William Gilbert (1600 who, as a result of his work, literally coined the term electricus as referring to the electric property of the attraction of like-charged particles); Daniel Bernoulli (1700-1782), Alessandro Volta (1745-1827) and Franz Aepinus (1724-1802) who all described the dependence of the electric force on particle-to-particle separation as being similar to that of gravity, namely the inverse square law; with John Robinson (1769) providing measurements supporting the inverse square law adherence; the unfortunate Henry Cavendish who described the electric force's dependence on both the charges of the particles and their separation but alas did not publish the results; and finally Charles Augustin de Coulomb who in 1785 who comprehensively described and provided extensive measurements describing the particles' charge and separation dependence of the electric force.\n",
        "\n",
        "Coulomb's simple expression for the magnitude of the force experienced by either particle is given below.\n",
        "\n",
        "<br><p style=\"font-size:14px;\">\n",
        "$$ \\left | \\vec{\\mathbf{F}} \\right |=k_o \\frac{q_1 q_2}{r^2}$$\n",
        "<br>\n",
        "\n",
        "where $q_1$ and $q_2$ are the electric charges of *Particle 1* and *Particle 2* respectively, and r is the separation of the two particles.\n",
        "\n",
        "Of course force is a vector valued quantity, hence we need to provide more information to have a complet mathematical description of the phenomenon.  We will adopt the notation $\\vec{\\mathbf{F}}_{n,m}$ as describing the force on *Particle n* in the presence of *Particle m*, $\\vec{\\mathbf{r}}_{n,m}$ as describing the position of *Particle m* relative to *Particle m* and $\\hat{\\mathbf{r}}_{n,m}$ as describing the unit vector pointing from *Particle n* to *Particle m*. The expression for the force on *Particle n* due to *Particle m* is:\n",
        "\n",
        "<br><p style=\"font-size:14px;\">\n",
        "$$\\vec{\\mathbf{F}}_{n,m}=k_o \\frac{q_1 q_2}{r^2}\\hat{\\mathbf{r}}_{n,m}=k_o \\frac{q_1 q_2}{r^3}\\vec{\\mathbf{r}}_{n,m}$$\n",
        "<br>\n",
        "\n",
        "<table width=\"700\" style=\"table-layout:fixed\" align=\"left\">\n",
        "<tr>\n",
        "<td>\n",
        "Figure 4-3  The inverse force law states that the magnitude of the force is proportional to the product of the electric charges $q_1$ and $q_2$. The direction of the force is given by the unit vector\n",
        "</td>\n",
        "<td><img src=\"https://drive.google.com/uc?export=view&id=1d_bA5PRKQ36wdlEfXXGKZXGSqaiCNxqO\"></td></tr>\n",
        "</table>\n",
        "\n",
        "\n"
      ]
    },
    {
      "cell_type": "markdown",
      "metadata": {
        "id": "-XoaC-Fs5GMX"
      },
      "source": [
        "### Law of Superposition \n",
        "Electric and magnetic forces, fields, and flux densities obey the law of superposition.  This means that one can evaluate the total by linearly adding the contributions from each constituent of the system.  For example, the total force on *Particle 3* in Fig. 4.4 is the linearly combination of the forces due to *Particle 1* and *Particle 2*.  This need not be the case, many physical phenomena are nonlinear, such as avalanche breakdown in semiconductors, in that the output is not linearly proportional to the input.    \n",
        "\n",
        "<table width=\"700\" style=\"table-layout:fixed\" align=\"left\">\n",
        "<tr><td>\n",
        "Figure 4-4  The force on *Particle 3* is the liner vector addition of the individual forces due to the presence of *Particle 1* and *Particle 2*.\n",
        "</td>\n",
        "<td><img src=\"https://drive.google.com/uc?export=view&id=1FQPk0E5SlFq9BKQpcflDAeqEky2V82ll\"></td></tr>\n",
        "</table>\n",
        "\n",
        "\n"
      ]
    },
    {
      "cell_type": "markdown",
      "metadata": {
        "id": "eQMSJc8REJB3"
      },
      "source": [
        "### The Direct Integration Method for Calculating Electric Fields\n",
        "\n",
        "Since electric fields and forces obey the law of superposition, we can perform a vector summation of the fields and forces produced by any set of charges.  For a set of discrete charges, the force on *Particle j* due to the presence of all the other particles (see Fig. 4-4) is:\n",
        "\n",
        "<br>\n",
        "$$ \\vec{\\mathbf{F}}_j=\\sum_{i\\neq j} \\frac{q_j q_i}{4 \\pi \\epsilon_o \\left | \\vec{\\mathbf{r}}_j -\\vec{\\mathbf{r}}_i \\right |^2}\\hat{\\mathbf{r}}_{j,i} $$\n",
        "<br>\n",
        "\n",
        "and the field at the position of *Particle j* is:\n",
        "\n",
        "<br>\n",
        "$$ \\vec{\\mathbf{E}}(\\vec{\\mathbf{r}}_j)=\\sum_{i\\neq j} \\frac{q_i}{4 \\pi \\epsilon_o \\left | \\vec{\\mathbf{r}}_j -\\vec{\\mathbf{r}}_i \\right |^2}\\hat{\\mathbf{r}}_{j,i} $$\n",
        "<br>\n",
        "\n",
        "For example, for a system of three particles as shown in Fig. 4-4, the forces on the three particles are:\n",
        "\n",
        "<br>\n",
        "$$ \\vec{\\mathbf{E}}(\\vec{\\mathbf{r}}_1) = \\frac{q_2}{4 \\pi \\epsilon_o \\left | \\vec{\\mathbf{r}}_1 -\\vec{\\mathbf{r}}_2 \\right |^2}\\hat{\\mathbf{r}}_{1,2} + \\frac{q_3}{4 \\pi \\epsilon_o \\left | \\vec{\\mathbf{r}}_1 -\\vec{\\mathbf{r}}_3 \\right |^2}\\hat{\\mathbf{r}}_{1,3}$$\n",
        "<br>\n",
        "\n",
        "<br>\n",
        "$$ \\vec{\\mathbf{E}}(\\vec{\\mathbf{r}}_2) = \\frac{q_1}{4 \\pi \\epsilon_o \\left | \\vec{\\mathbf{r}}_2 -\\vec{\\mathbf{r}}_1 \\right |^2}\\hat{\\mathbf{r}}_{2,1} + \\frac{q_3}{4 \\pi \\epsilon_o \\left | \\vec{\\mathbf{r}}_2 -\\vec{\\mathbf{r}}_3 \\right |^2}\\hat{\\mathbf{r}}_{2,3}$$\n",
        "<br>\n",
        "\n",
        "<br>\n",
        "$$ \\vec{\\mathbf{E}}(\\vec{\\mathbf{r}}_3) = \\frac{q_1}{4 \\pi \\epsilon_o \\left | \\vec{\\mathbf{r}}_3 -\\vec{\\mathbf{r}}_1 \\right |^2}\\hat{\\mathbf{r}}_{3,1} + \\frac{q_2}{4 \\pi \\epsilon_o \\left | \\vec{\\mathbf{r}}_3 -\\vec{\\mathbf{r}}_2 \\right |^2}\\hat{\\mathbf{r}}_{3,2}$$\n",
        "<br>\n",
        "\n",
        "If the charge configuration is continuuous rather than discrete, then the summations are transformed to integrals.  The integrals can either be either a volume integral if the system includes a volumetric charge density $\\rho$, or a surface integral if the system includes a areal charge density $\\sigma$, or a line integral if the system includes a linear charge density $\\lambda$, or a combination of all three integrals along with the field due to discrete charges in the system:\n",
        "\n",
        "\n",
        "<br><br>\n",
        "\n",
        "<table style=\"width:100%\">\n",
        "<tr>\n",
        "    <th><p style=\"font-size:14px;\">Type of Charge Density</th>\n",
        "    <th><p style=\"font-size:14px;\">Appropriate Equation</th> \n",
        "</tr>\n",
        "<tr>\n",
        "<td>\n",
        "<p style=\"font-size:14px;\">Volume Charge Density\n",
        "</td>\n",
        "<td><p style=\"font-size:14px;\">\n",
        "<br>\n",
        "$$ \\vec{\\mathbf{E}}(\\vec{\\mathbf{r}}) = \\frac{1}{4 \\pi \\epsilon_o} \\int_V \\frac{\\rho (\\vec{\\mathbf{r}}')}{ \\left | \\vec{\\mathbf{r}} -\\vec{\\mathbf{r}}' \\right |^2} \\frac{ (\\vec{\\mathbf{r}} - \\vec{\\mathbf{r}}')}{ \\left | \\vec{\\mathbf{r}} -\\vec{\\mathbf{r}}' \\right |} dV' $$\n",
        "<br>\n",
        "</td></tr>\n",
        "<tr>\n",
        "<td>\n",
        "<p style=\"font-size:14px;\">Surface Charge Density\n",
        "</td>\n",
        "<td><p style=\"font-size:14px;\">\n",
        "<br>\n",
        "$$\\vec{\\mathbf{E}}(\\vec{\\mathbf{r}}) = \\frac{1}{4 \\pi \\epsilon_o}\\int_S \\frac{\\sigma (\\vec{\\mathbf{r}}')}{\\left | \\vec{\\mathbf{r}} -\\vec{\\mathbf{r}}' \\right |^2} \\frac{ (\\vec{\\mathbf{r}} - \\vec{\\mathbf{r}}')}{ \\left | \\vec{\\mathbf{r}} -\\vec{\\mathbf{r}}' \\right |} dS'$$\n",
        "<br>\n",
        "</td></tr>\n",
        "<tr>\n",
        "<td>\n",
        "<p style=\"font-size:14px;\">Linear Charge Density\n",
        "</td>\n",
        "<td><p style=\"font-size:14px;\">\n",
        "<br>\n",
        "$$\\vec{\\mathbf{E}}(\\vec{\\mathbf{r}}) = \\frac{1}{4 \\pi \\epsilon_o}\\int_L \\frac{\\lambda (\\vec{\\mathbf{r}}')}{\\left | \\vec{\\mathbf{r}} -\\vec{\\mathbf{r}}' \\right |^2} \\frac{ (\\vec{\\mathbf{r}} - \\vec{\\mathbf{r}}')}{ \\left | \\vec{\\mathbf{r}} -\\vec{\\mathbf{r}}' \\right |} dl'$$\n",
        "<br>\n",
        "</td></tr>\n",
        "<tr>\n",
        "<td>\n",
        "<p style=\"font-size:14px;\">Discrete Set of Charges\n",
        "</td>\n",
        "<td><p style=\"font-size:14px;\">\n",
        "<br>\n",
        "$$\\vec{\\mathbf{E}}(\\vec{\\mathbf{r}}) = \\frac{1}{4 \\pi \\epsilon_o} \\sum_j \\frac{q_j}{\\left | \\vec{\\mathbf{r}} -\\vec{\\mathbf{r}}_j \\right |^2} \\frac{ (\\vec{\\mathbf{r}} - \\vec{\\mathbf{r}}_j)}{ \\left | \\vec{\\mathbf{r}} -\\vec{\\mathbf{r}}_j \\right |}$$\n",
        "<br>\n",
        "</td></tr>\n",
        "</table>"
      ]
    },
    {
      "cell_type": "markdown",
      "metadata": {
        "id": "3sG1GxucacB_"
      },
      "source": [
        "\n",
        "\n",
        "---\n",
        "## Example:  Line of Charge\n",
        "\n",
        "Consider a infinitely thin line of charge oriented along the $z-axis$ and having a length $l$ as shown in the figure below.  Calculate the electric field at any point on the $x$-$y$ plane (i.e., $z=0$).  Following this, let the length of the wire go to infinity and determine the electric field for an infinite wire.\n",
        "\n",
        "<table width=\"100%\" style=\"table-layout:fixed\" align=\"left\">\n",
        "<tr><td>\n",
        "Figure 4-5.  A linear charge density along the $z$-$axis$.\n",
        "</td>\n",
        "<td><img src=\"https://drive.google.com/uc?export=view&id=1VjBgrmqZlw6OtBSMuDPVuxaa-317rXAZ\"></td></tr>\n",
        "</table>\n",
        "<br>\n",
        "<br><br><br><br><br><br><br><br><br>\n",
        "\n",
        "<b>Solution</b>:    \n",
        "We use the equation for $\\vec{\\mathbf{E}}$ for linear charge densities:\n",
        "\n",
        "$$\\vec{\\mathbf{E}}(\\vec{\\mathbf{r}}) = \\frac{1}{4 \\pi \\epsilon_o} \\int\\limits_{l/2}^{-l/2} \\frac{\\lambda (\\vec{\\mathbf{r}}')dl'}{d^2}\\, \\hat{\\mathbf{r}}'$$\n",
        "\n",
        "<br>\n",
        "Due to symmetry, the only nonzero component of $\\vec{\\mathbf{E}}$ is $E_y$, which can be determined by the following equation:\n",
        "\n",
        "$$E_y = \\left | \\vec{\\mathbf{E}} \\right |cos(\\theta)$$\n",
        "\n",
        "<br>\n",
        "\n",
        "We also make use of the following relations:\n",
        "\n",
        "<br>\n",
        "\n",
        "$$ d = \\rho \\space sec(\\theta)$$\n",
        "<br>\n",
        "$$ z = \\rho \\space tan(\\theta)$$\n",
        "<br>\n",
        "$$ dz = \\rho \\space sec^2(\\theta)$$\n",
        "\n",
        "<br>\n",
        "\n",
        "We then have:\n",
        "\n",
        "$$ E_y = \\frac{\\lambda}{4 \\pi \\epsilon_o \\rho} \\int\\limits_{\\theta_i}^{\\theta_f}cos(\\theta)d\\theta\\,$$\n",
        "\n",
        "$$ = \\frac{\\lambda}{4 \\pi \\epsilon_o \\rho} \\left ( sin(\\theta_f) - sin(\\theta_i) \\right )$$\n",
        "<br>\n",
        "\n",
        "where $\\theta_f=-\\theta_i=tan^{-1}(l/2\\rho)$.  Thus, the answer is:\n",
        "\n",
        "$$ \\vec{\\mathbf{E}} = \\frac{\\lambda}{4 \\pi \\epsilon_o \\rho} \\left ( sin(\\theta_f) - sin(\\theta_i) \\right ) \\hat{\\mathbf{y}}$$\n",
        "\n",
        "as as $l \\rightarrow \\infty$, $\\theta_f \\rightarrow \\pi/2$ and $\\theta_i \\rightarrow -\\pi/2$ and we get:\n",
        "\n",
        "$$ \\vec{\\mathbf{E}} = \\frac{\\lambda}{2 \\epsilon_o \\rho} \\hat{\\mathbf{y}}$$\n",
        "\n",
        "\n",
        "\n",
        "\n",
        "\n"
      ]
    },
    {
      "cell_type": "markdown",
      "metadata": {
        "id": "30pYo_y4x1gW"
      },
      "source": [
        "---\n",
        "## Example:  Uniformly Charged Sphere\n",
        "\n",
        "The good thing about the *Direct Integration Method* is that it can always be used--resorted to when all other methods fail.  The downside is that using the method can be quite cumbersome and inelegant.  These aspects of the method are nicely illustratated in this problem.\n",
        "\n",
        "<html>\n",
        "<body>\n",
        "<table width=\"100%\" style=\"table-layout:fixed\" align=\"left\">\n",
        "<tr>\n",
        "<td width=\"50%\" >Figure 4-6.  A uniformly charged sphere centered about the origin. <br> The electric field produced by this structure will result in a couple of interesting features.</td>\n",
        "<td><img src=\"https://drive.google.com/uc?export=view&id=1AHJOTlNNu0pc2uFdacbInU_hoocXjAAG\"></td></tr>\n",
        "</table>\n",
        "</body>\n",
        "</html>\n",
        "\n",
        "<br>\n",
        "<br><br><br><br><br><br><br><br><br>\n",
        "\n",
        "<b>Solution</b>:    \n",
        "We use the equation for $\\vec{\\mathbf{E}}$ for volumetric charge densities:\n",
        "\n",
        "<video controls src=\"http://techslides.com/demos/sample-videos/small.mp4\" />\n",
        "\n",
        "\n",
        "\n"
      ]
    },
    {
      "cell_type": "markdown",
      "metadata": {
        "id": "qkX2F5tlTJzN"
      },
      "source": [
        "%%%html\n",
        "<figure class=\"video_container\">\n",
        "  <video width=400 controls>\n",
        "    <source src=\"http://techslides.com/demos/sample-videos/small.mp4\" type=\"video/mp4\">\n",
        "  </video>\n",
        "</figure>\n",
        "\n",
        "\n",
        "<video controls src=\"/content/Sphere_Movie_5.mp4\" />\n",
        "techslides.com\n",
        "techslides.com\n",
        "\n"
      ]
    },
    {
      "cell_type": "markdown",
      "metadata": {
        "id": "5-0sSoXiEJH3"
      },
      "source": [
        "## Gauss's Law"
      ]
    },
    {
      "cell_type": "markdown",
      "metadata": {
        "id": "4EkZVUyoEJNl"
      },
      "source": [
        "### The Gaussian Method for Calculating Electric Fields"
      ]
    },
    {
      "cell_type": "markdown",
      "metadata": {
        "id": "jK_loLcyEJUS"
      },
      "source": [
        "## The Electric Scalar Potential"
      ]
    },
    {
      "cell_type": "markdown",
      "metadata": {
        "id": "-cCxGpOSEJbe"
      },
      "source": [
        "## The Electric Dipole"
      ]
    },
    {
      "cell_type": "markdown",
      "metadata": {
        "id": "ybxTqPlUEJh5"
      },
      "source": [
        "## Electric Potential Energy"
      ]
    },
    {
      "cell_type": "markdown",
      "metadata": {
        "id": "iotYrIvbEJnm"
      },
      "source": [
        "## Image Theory *(Part 1)*"
      ]
    },
    {
      "cell_type": "markdown",
      "metadata": {
        "id": "haba1GCEFVMt"
      },
      "source": [
        "# Electric Fields in Materials and at Interfaces"
      ]
    },
    {
      "cell_type": "markdown",
      "metadata": {
        "id": "AHtSHwQnFadD"
      },
      "source": [
        "## Polarization"
      ]
    },
    {
      "cell_type": "markdown",
      "metadata": {
        "id": "2RtQdZFQFa8Z"
      },
      "source": [
        "## Electric Flux Density and Electric Permittivity"
      ]
    },
    {
      "cell_type": "markdown",
      "metadata": {
        "id": "CBor33zEFbHD"
      },
      "source": [
        "## Capacitance"
      ]
    },
    {
      "cell_type": "markdown",
      "metadata": {
        "id": "xS8K7PfYFbS_"
      },
      "source": [
        "## Properties and Classification of Materials"
      ]
    },
    {
      "cell_type": "markdown",
      "metadata": {
        "id": "Nw1A74ixFbZr"
      },
      "source": [
        "## The Electric Boundary Conditions"
      ]
    },
    {
      "cell_type": "markdown",
      "metadata": {
        "id": "wq7c2pBxFbhH"
      },
      "source": [
        "## The Kramers-Kronig Relations"
      ]
    },
    {
      "cell_type": "markdown",
      "metadata": {
        "id": "mavI7R-s1cHL"
      },
      "source": [
        "# Magnetostatics"
      ]
    },
    {
      "cell_type": "markdown",
      "metadata": {
        "id": "Bj1KnPJ62ISD"
      },
      "source": [
        "## The Lorentz Force Law"
      ]
    },
    {
      "cell_type": "markdown",
      "metadata": {
        "id": "EEWkKGyoIPqY"
      },
      "source": [
        "## The Law of Biot and Savart"
      ]
    },
    {
      "cell_type": "markdown",
      "metadata": {
        "id": "Y7tQT-81IP28"
      },
      "source": [
        "## The Direct Integration Method for Calculating Magnetic Fields"
      ]
    },
    {
      "cell_type": "markdown",
      "metadata": {
        "id": "9_vcQLdKIP9p"
      },
      "source": [
        "## Ampère's Law"
      ]
    },
    {
      "cell_type": "markdown",
      "metadata": {
        "id": "y7EJD508IQEN"
      },
      "source": [
        "## The Ampèrian Method for Calculating Magnetic Fields"
      ]
    },
    {
      "cell_type": "markdown",
      "metadata": {
        "id": "4v_TZDM3IQKY"
      },
      "source": [
        "## The Magnetic Vector Potential"
      ]
    },
    {
      "cell_type": "markdown",
      "metadata": {
        "id": "FQ1sl6aKIQQF"
      },
      "source": [
        "## The Magnetic Dipole"
      ]
    },
    {
      "cell_type": "markdown",
      "metadata": {
        "id": "EGVZG7FKIQWI"
      },
      "source": [
        "## Magnetic Potential Energy"
      ]
    },
    {
      "cell_type": "markdown",
      "metadata": {
        "id": "BH47CLhoIQZf"
      },
      "source": [
        "## Image Theory *(Part 2)*"
      ]
    },
    {
      "cell_type": "markdown",
      "metadata": {
        "id": "mMK78VAATase"
      },
      "source": [
        "# Time-Dependent Maxwell's Equations"
      ]
    },
    {
      "cell_type": "markdown",
      "metadata": {
        "id": "T4hfYFFuTjyD"
      },
      "source": [
        "## Displacement Current"
      ]
    },
    {
      "cell_type": "markdown",
      "metadata": {
        "id": "iqW6O-VOTj1q"
      },
      "source": [
        "## Ampère's Law with Maxwell's Addition"
      ]
    },
    {
      "cell_type": "markdown",
      "metadata": {
        "id": "kq6Zm8cITj5H"
      },
      "source": [
        "## The Maxwell-Faraday Law"
      ]
    },
    {
      "cell_type": "markdown",
      "metadata": {
        "id": "1vs78NaMTkdk"
      },
      "source": [
        "## Gauss's Law of Electricity and Magnetism"
      ]
    },
    {
      "cell_type": "markdown",
      "metadata": {
        "id": "82z1XD6ATkhN"
      },
      "source": [
        "## The Wave Equation"
      ]
    },
    {
      "cell_type": "markdown",
      "metadata": {
        "id": "LqW6cBoFTklf"
      },
      "source": [
        "## The Transformer and Motional Electromagnetic Forces"
      ]
    },
    {
      "cell_type": "markdown",
      "metadata": {
        "id": "Ntn9NyTyTk0d"
      },
      "source": [
        "## The Electric Generator"
      ]
    },
    {
      "cell_type": "markdown",
      "metadata": {
        "id": "kdWFOweVTk31"
      },
      "source": [
        "## Electromagnetic Boundary Conditions"
      ]
    },
    {
      "cell_type": "markdown",
      "metadata": {
        "id": "EORRbJ0GTk7v"
      },
      "source": [
        "## The Charge-Current Continuity Relation"
      ]
    },
    {
      "cell_type": "markdown",
      "metadata": {
        "id": "M4u56s-mUR0Q"
      },
      "source": [
        "## Retarded Potentials"
      ]
    },
    {
      "cell_type": "markdown",
      "metadata": {
        "id": "bsqo21MfUgWZ"
      },
      "source": [
        "# Plane-Wave Propagation"
      ]
    },
    {
      "cell_type": "markdown",
      "metadata": {
        "id": "Oyz-QQXlUlbe"
      },
      "source": [
        "## Solutions to the Wave Equation"
      ]
    },
    {
      "cell_type": "markdown",
      "metadata": {
        "id": "RMA-tkp0Ulo-"
      },
      "source": [
        "## Polarization"
      ]
    },
    {
      "cell_type": "markdown",
      "metadata": {
        "id": "c5ZAvtT7Ul-U"
      },
      "source": [
        "## Waves in Lossless and Lossy Unbounded Media"
      ]
    },
    {
      "cell_type": "markdown",
      "metadata": {
        "id": "JLM_Gha7UmDF"
      },
      "source": [
        "## Waves at an Interface"
      ]
    },
    {
      "cell_type": "markdown",
      "metadata": {
        "id": "px-3e7w0V9JB"
      },
      "source": [
        "### Fresnel's Equations for Normal Incidence"
      ]
    },
    {
      "cell_type": "markdown",
      "metadata": {
        "id": "XWvqMleIV9Nd"
      },
      "source": [
        "### Snell's Law"
      ]
    },
    {
      "cell_type": "markdown",
      "metadata": {
        "id": "k3_hYhE9V9Rp"
      },
      "source": [
        "### Fresnel's Equations for Oblique Incidence"
      ]
    },
    {
      "cell_type": "markdown",
      "metadata": {
        "id": "OwQK3d93Vi0q"
      },
      "source": [
        "## The Three-Layer System"
      ]
    },
    {
      "cell_type": "markdown",
      "metadata": {
        "id": "k85Akg9sVi4C"
      },
      "source": [
        "## The Rigorous Coupled Wave Method for *N*-Layer Systems"
      ]
    },
    {
      "cell_type": "markdown",
      "metadata": {
        "id": "-lIOgOMJWOmN"
      },
      "source": [
        "# Waveguides and Resonant Cavities"
      ]
    },
    {
      "cell_type": "markdown",
      "metadata": {
        "id": "E8VhJBDFXF7X"
      },
      "source": [
        "## General Relations for ***E*** and ***H*** in Cartesian Coordinates"
      ]
    },
    {
      "cell_type": "markdown",
      "metadata": {
        "id": "uzUagwbhXF-2"
      },
      "source": [
        "## TM Modes in Rectangular Waveguides"
      ]
    },
    {
      "cell_type": "markdown",
      "metadata": {
        "id": "uj4IIf6AXGCD"
      },
      "source": [
        "## TE Modes in Rectangular Waveguides"
      ]
    },
    {
      "cell_type": "markdown",
      "metadata": {
        "id": "pKG0fYmpXGFo"
      },
      "source": [
        "## TM Modes in Cylindrical Waveguides"
      ]
    },
    {
      "cell_type": "markdown",
      "metadata": {
        "id": "5s3ND8M0XGI1"
      },
      "source": [
        "## TE Modes in Cylindrical Waveguides"
      ]
    },
    {
      "cell_type": "markdown",
      "metadata": {
        "id": "8zDyFwtyXGMc"
      },
      "source": [
        "## Fiber Optics"
      ]
    },
    {
      "cell_type": "markdown",
      "metadata": {
        "id": "B5PrkJHSXGPm"
      },
      "source": [
        "## Resonant Cavities"
      ]
    },
    {
      "cell_type": "markdown",
      "metadata": {
        "id": "0IzoM7pvYABz"
      },
      "source": [
        "## Resonant Cavity Arrays"
      ]
    },
    {
      "cell_type": "markdown",
      "metadata": {
        "id": "yXaz0cO9UmHG"
      },
      "source": [
        "# Appendix 1:  Units and Constants"
      ]
    },
    {
      "cell_type": "markdown",
      "metadata": {
        "id": "7gSupHCPVR8t"
      },
      "source": [
        "# Appendix 2:  Vector Calculus Identities and Formulae"
      ]
    },
    {
      "cell_type": "markdown",
      "metadata": {
        "id": "71X_pseeYMjQ"
      },
      "source": [
        "# Appendix 3:  The Equations of Electromagnetism"
      ]
    },
    {
      "cell_type": "markdown",
      "metadata": {
        "id": "beBL0h7vUmMZ"
      },
      "source": [
        "# Index"
      ]
    },
    {
      "cell_type": "code",
      "metadata": {
        "id": "zKgEhQ9kVJxr"
      },
      "source": [
        ""
      ],
      "execution_count": null,
      "outputs": []
    },
    {
      "cell_type": "markdown",
      "metadata": {
        "id": "FO2MuY6vJi54"
      },
      "source": [
        "<!DOCTYPE html>\n",
        "<html>\n",
        "<head>\n",
        "<style>\n",
        "table {\n",
        "  width: 100%;\n",
        "  font-family: arial, sans-serif;\n",
        "  border-collapse: collapse;\n",
        "  width: 100%;\n",
        "  word-wrap: break-word;\n",
        "}\n",
        "\n",
        "td, th {\n",
        "  border: 1px solid #dddddd;\n",
        "  text-align: left;\n",
        "  padding: 8px;\n",
        "  /*word-break: break-all;*/ \n",
        "  word-wrap: break-word;\n",
        "}\n",
        "\n",
        "tr:nth-child(even) {\n",
        "  background-color: #dddddd;\n",
        "  word-wrap: break-word;\n",
        "}\n",
        "</style>\n",
        "</head>\n",
        "<body>\n",
        "\n",
        "<h2>HTML Table</h2>\n",
        "\n",
        "<table>\n",
        "  <tr>\n",
        "    <th>Company</th>\n",
        "    <th>Contact</th>\n",
        "    <th>Country</th>\n",
        "  </tr>\n",
        "  <tr>\n",
        "    <td>Alfreds Futterkiste</td>\n",
        "    <td>Maria Anders</td>\n",
        "    <td>Germany</td>\n",
        "  </tr>\n",
        "  <tr>\n",
        "    <td>Centro comercial Moctezuma</td>\n",
        "    <td>Francisco Chang</td>\n",
        "    <td>Mexico</td>\n",
        "  </tr>\n",
        "  <tr>\n",
        "    <td>Ernst Handel</td>\n",
        "    <td>Roland Mendel</td>\n",
        "    <td>Austria</td>\n",
        "  </tr>\n",
        "  <tr>\n",
        "    <td>Island Trading</td>\n",
        "    <td>Helen Bennett</td>\n",
        "    <td>UK</td>\n",
        "  </tr>\n",
        "  <tr>\n",
        "    <td>Laughing Bacchus Winecellars Laughing Bacchus Winecellars Laughing Bacchus Winecellars Laughing Bacchus Winecellars</td>\n",
        "    <td>Yoshi Tannamuri</td>\n",
        "    <td>Canada</td>\n",
        "  </tr>\n",
        "  <tr>\n",
        "    <td>Magazzini Alimentari Riuniti</td>\n",
        "    <td>Giovanni Rovelli</td>\n",
        "    <td>Italy</td>\n",
        "  </tr>\n",
        "</table>\n",
        "\n",
        "</body>\n",
        "</html>\n"
      ]
    },
    {
      "cell_type": "code",
      "metadata": {
        "id": "WG9r15PtmF7H"
      },
      "source": [
        ""
      ],
      "execution_count": null,
      "outputs": []
    },
    {
      "cell_type": "code",
      "metadata": {
        "id": "4EQWi4RqzTB-"
      },
      "source": [
        ""
      ],
      "execution_count": null,
      "outputs": []
    }
  ]
}